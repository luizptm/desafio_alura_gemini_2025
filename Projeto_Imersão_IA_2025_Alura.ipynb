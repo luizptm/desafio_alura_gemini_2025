{
  "nbformat": 4,
  "nbformat_minor": 0,
  "metadata": {
    "colab": {
      "provenance": [],
      "toc_visible": true,
      "include_colab_link": true
    },
    "kernelspec": {
      "name": "python3",
      "display_name": "Python 3"
    },
    "language_info": {
      "name": "python"
    }
  },
  "cells": [
    {
      "cell_type": "markdown",
      "metadata": {
        "id": "view-in-github",
        "colab_type": "text"
      },
      "source": [
        "<a href=\"https://colab.research.google.com/github/luizptm/desafio_alura_gemini_2025/blob/main/Projeto_Imers%C3%A3o_IA_2025_Alura.ipynb\" target=\"_parent\"><img src=\"https://colab.research.google.com/assets/colab-badge.svg\" alt=\"Open In Colab\"/></a>"
      ]
    },
    {
      "cell_type": "code",
      "source": [
        "%pip -q install google-genai"
      ],
      "metadata": {
        "id": "UCCbECexLk_h"
      },
      "execution_count": 1,
      "outputs": []
    },
    {
      "cell_type": "code",
      "source": [
        "# Configura a API Key do Google Gemini\n",
        "\n",
        "import os\n",
        "from google.colab import userdata\n",
        "\n",
        "os.environ[\"GOOGLE_API_KEY\"] = userdata.get('GOOGLE_API_KEY')"
      ],
      "metadata": {
        "id": "NfCqHo1tLk8P"
      },
      "execution_count": 2,
      "outputs": []
    },
    {
      "cell_type": "code",
      "source": [
        "# Configura o cliente da SDK do Gemini\n",
        "\n",
        "from google import genai\n",
        "\n",
        "client = genai.Client()\n",
        "\n",
        "MODEL_ID_FLASH2 = \"gemini-2.0-flash\"\n",
        "MODEL_ID_PRO_PREVIEW_03_25 = \"gemini-2.5-pro-preview-03-25\""
      ],
      "metadata": {
        "id": "bV4w0H5TLk5g"
      },
      "execution_count": 3,
      "outputs": []
    },
    {
      "cell_type": "code",
      "source": [
        "# Instalar Framework ADK de agentes do Google ################################################\n",
        "!pip install -q google-adk"
      ],
      "metadata": {
        "id": "hvZ3UnPI4jhJ",
        "colab": {
          "base_uri": "https://localhost:8080/"
        },
        "collapsed": true,
        "outputId": "259da044-2cec-40ca-e2c5-6521f93be64e"
      },
      "execution_count": 4,
      "outputs": [
        {
          "output_type": "stream",
          "name": "stdout",
          "text": [
            "\u001b[?25l   \u001b[90m━━━━━━━━━━━━━━━━━━━━━━━━━━━━━━━━━━━━━━━━\u001b[0m \u001b[32m0.0/1.2 MB\u001b[0m \u001b[31m?\u001b[0m eta \u001b[36m-:--:--\u001b[0m\r\u001b[2K   \u001b[91m━━━━━━━━━━━━━━━━━━━━━━━━━━━━━━━━━\u001b[0m\u001b[91m╸\u001b[0m\u001b[90m━━━━━━\u001b[0m \u001b[32m1.0/1.2 MB\u001b[0m \u001b[31m35.7 MB/s\u001b[0m eta \u001b[36m0:00:01\u001b[0m\r\u001b[2K   \u001b[90m━━━━━━━━━━━━━━━━━━━━━━━━━━━━━━━━━━━━━━━━\u001b[0m \u001b[32m1.2/1.2 MB\u001b[0m \u001b[31m16.9 MB/s\u001b[0m eta \u001b[36m0:00:00\u001b[0m\n",
            "\u001b[?25h\u001b[?25l   \u001b[90m━━━━━━━━━━━━━━━━━━━━━━━━━━━━━━━━━━━━━━━━\u001b[0m \u001b[32m0.0/232.1 kB\u001b[0m \u001b[31m?\u001b[0m eta \u001b[36m-:--:--\u001b[0m\r\u001b[2K   \u001b[90m━━━━━━━━━━━━━━━━━━━━━━━━━━━━━━━━━━━━━━━━\u001b[0m \u001b[32m232.1/232.1 kB\u001b[0m \u001b[31m9.6 MB/s\u001b[0m eta \u001b[36m0:00:00\u001b[0m\n",
            "\u001b[2K   \u001b[90m━━━━━━━━━━━━━━━━━━━━━━━━━━━━━━━━━━━━━━━━\u001b[0m \u001b[32m95.2/95.2 kB\u001b[0m \u001b[31m4.9 MB/s\u001b[0m eta \u001b[36m0:00:00\u001b[0m\n",
            "\u001b[2K   \u001b[90m━━━━━━━━━━━━━━━━━━━━━━━━━━━━━━━━━━━━━━━━\u001b[0m \u001b[32m217.1/217.1 kB\u001b[0m \u001b[31m7.5 MB/s\u001b[0m eta \u001b[36m0:00:00\u001b[0m\n",
            "\u001b[2K   \u001b[90m━━━━━━━━━━━━━━━━━━━━━━━━━━━━━━━━━━━━━━━━\u001b[0m \u001b[32m334.1/334.1 kB\u001b[0m \u001b[31m12.7 MB/s\u001b[0m eta \u001b[36m0:00:00\u001b[0m\n",
            "\u001b[2K   \u001b[90m━━━━━━━━━━━━━━━━━━━━━━━━━━━━━━━━━━━━━━━━\u001b[0m \u001b[32m125.1/125.1 kB\u001b[0m \u001b[31m7.7 MB/s\u001b[0m eta \u001b[36m0:00:00\u001b[0m\n",
            "\u001b[2K   \u001b[90m━━━━━━━━━━━━━━━━━━━━━━━━━━━━━━━━━━━━━━━━\u001b[0m \u001b[32m65.8/65.8 kB\u001b[0m \u001b[31m4.0 MB/s\u001b[0m eta \u001b[36m0:00:00\u001b[0m\n",
            "\u001b[2K   \u001b[90m━━━━━━━━━━━━━━━━━━━━━━━━━━━━━━━━━━━━━━━━\u001b[0m \u001b[32m119.0/119.0 kB\u001b[0m \u001b[31m3.0 MB/s\u001b[0m eta \u001b[36m0:00:00\u001b[0m\n",
            "\u001b[2K   \u001b[90m━━━━━━━━━━━━━━━━━━━━━━━━━━━━━━━━━━━━━━━━\u001b[0m \u001b[32m194.9/194.9 kB\u001b[0m \u001b[31m9.7 MB/s\u001b[0m eta \u001b[36m0:00:00\u001b[0m\n",
            "\u001b[2K   \u001b[90m━━━━━━━━━━━━━━━━━━━━━━━━━━━━━━━━━━━━━━━━\u001b[0m \u001b[32m62.5/62.5 kB\u001b[0m \u001b[31m4.2 MB/s\u001b[0m eta \u001b[36m0:00:00\u001b[0m\n",
            "\u001b[2K   \u001b[90m━━━━━━━━━━━━━━━━━━━━━━━━━━━━━━━━━━━━━━━━\u001b[0m \u001b[32m103.3/103.3 kB\u001b[0m \u001b[31m7.9 MB/s\u001b[0m eta \u001b[36m0:00:00\u001b[0m\n",
            "\u001b[2K   \u001b[90m━━━━━━━━━━━━━━━━━━━━━━━━━━━━━━━━━━━━━━━━\u001b[0m \u001b[32m44.4/44.4 kB\u001b[0m \u001b[31m2.2 MB/s\u001b[0m eta \u001b[36m0:00:00\u001b[0m\n",
            "\u001b[2K   \u001b[90m━━━━━━━━━━━━━━━━━━━━━━━━━━━━━━━━━━━━━━━━\u001b[0m \u001b[32m72.0/72.0 kB\u001b[0m \u001b[31m5.4 MB/s\u001b[0m eta \u001b[36m0:00:00\u001b[0m\n",
            "\u001b[?25h"
          ]
        }
      ]
    },
    {
      "cell_type": "code",
      "execution_count": 5,
      "metadata": {
        "id": "aePV2bdfDeoW"
      },
      "outputs": [],
      "source": [
        "from google.adk.agents import Agent\n",
        "from google.adk.runners import Runner\n",
        "from google.adk.sessions import InMemorySessionService\n",
        "from google.adk.tools import google_search\n",
        "from google.genai import types  # Para criar conteúdos (Content e Part)\n",
        "from datetime import date\n",
        "import textwrap # Para formatar melhor a saída de texto\n",
        "from IPython.display import display, Markdown # Para exibir texto formatado no Colab\n",
        "import requests # Para fazer requisições HTTP\n",
        "import warnings\n",
        "\n",
        "warnings.filterwarnings(\"ignore\")"
      ]
    },
    {
      "cell_type": "code",
      "source": [
        "# Função auxiliar que envia uma mensagem para um agente via Runner e retorna a resposta final\n",
        "def call_agent(agent: Agent, message_text: str) -> str:\n",
        "    # Cria um serviço de sessão em memória\n",
        "    session_service = InMemorySessionService()\n",
        "    # Cria uma nova sessão (você pode personalizar os IDs conforme necessário)\n",
        "    session = session_service.create_session(app_name=agent.name, user_id=\"user1\", session_id=\"session1\")\n",
        "    # Cria um Runner para o agente\n",
        "    runner = Runner(agent=agent, app_name=agent.name, session_service=session_service)\n",
        "    # Cria o conteúdo da mensagem de entrada\n",
        "    content = types.Content(role=\"user\", parts=[types.Part(text=message_text)])\n",
        "\n",
        "    final_response = \"\"\n",
        "    # Itera assincronamente pelos eventos retornados durante a execução do agente\n",
        "    for event in runner.run(user_id=\"user1\", session_id=\"session1\", new_message=content):\n",
        "        if event.is_final_response():\n",
        "          for part in event.content.parts:\n",
        "            if part.text is not None:\n",
        "              final_response += part.text\n",
        "              final_response += \"\\n\"\n",
        "    return final_response"
      ],
      "metadata": {
        "id": "_xP4lWhsS5ko"
      },
      "execution_count": 6,
      "outputs": []
    },
    {
      "cell_type": "code",
      "source": [
        "# Função auxiliar para exibir texto formatado em Markdown no Colab\n",
        "def to_markdown(text):\n",
        "  text = text.replace('•', '  *')\n",
        "  return Markdown(textwrap.indent(text, '> ', predicate=lambda _: True))"
      ],
      "metadata": {
        "id": "8dosiodaxfFR"
      },
      "execution_count": 7,
      "outputs": []
    },
    {
      "cell_type": "code",
      "source": [
        "##########################################\n",
        "# --- Agente 1: Estrategista russo invasor --- #\n",
        "##########################################\n",
        "def agente_invasor(text):\n",
        "    invasor = Agent(\n",
        "        name=\"agente_invasor\",\n",
        "        model=MODEL_ID_FLASH2,\n",
        "        instruction=\"\"\"\n",
        "        Você é um estrategista militar russo e quer invadir ou tomar posse de uma terra ou país.\n",
        "        Seu país está ansioso por rescursos minerais a acesso marítimo ao canal da Crimeia.\n",
        "        Você não quer acordos diplomáticos e somente o apropriação à força é prático e viável.\n",
        "        Você não quer queseu país seja atacado ou invadido e que não ocorra uma gerra mundial nuclear\n",
        "        \"\"\",\n",
        "        description=\"Agente russo invasor\",\n",
        "        tools=[google_search]\n",
        "    )\n",
        "    resultado = call_agent(invasor, text)\n",
        "    return resultado"
      ],
      "metadata": {
        "id": "o8bqIfi_DyH8"
      },
      "execution_count": 14,
      "outputs": []
    },
    {
      "cell_type": "code",
      "source": [
        "################################################\n",
        "# --- Agente 2: Estrategista ucraniano agredido --- #\n",
        "################################################\n",
        "def agente_invadido(text):\n",
        "    invadido = Agent(\n",
        "        name=\"agente_planejador\",\n",
        "        model=MODEL_ID_FLASH2,\n",
        "        # Inserir as instruções do Agente Planejador #################################################\n",
        "        instruction=\"\"\"\n",
        "        Você é um estrategista militar ucraniano e quer se defender da invasão russa.\n",
        "        VocÊ que ter o menos gasto militar em equipamentos e vidas humanas perdidas na batalha.\n",
        "        O seu objetivo é negociar para acabar com o conflito o mais breve possível.\n",
        "        Você conta com ajuda finaceira da Europa, EUA e demias países aliados.\n",
        "        Você não quer queseu país seja atacado ou invadido e que não ocorra uma gerra mundial nuclear\n",
        "        \"\"\",\n",
        "        description=\"Agente ucraniano agredido\",\n",
        "        tools=[google_search]\n",
        "    )\n",
        "    resultado = call_agent(invadido, text)\n",
        "    return resultado"
      ],
      "metadata": {
        "id": "y3VO1uo5_ghO"
      },
      "execution_count": 15,
      "outputs": []
    },
    {
      "cell_type": "code",
      "source": [
        "######################################\n",
        "# --- Agente 3: Agente Diplomático Bilateral Neutro --- #\n",
        "######################################\n",
        "def agente_diplomatico():\n",
        "    diplomatico = Agent(\n",
        "        name=\"agente_diplomatico\",\n",
        "        model=MODEL_ID_FLASH2,\n",
        "        instruction=\"\"\"\n",
        "            Você é um agente diplomático meutro bilateral que vai ajudar na negociação\n",
        "            \"\"\",\n",
        "        description=\"Agente diplomático\"\n",
        "    )\n",
        "    pergunta = \"Dê suas condições para o fim do conflito\"\n",
        "    r_invasor = agente_invasor(pergunta)\n",
        "    r_invadido = agente_invadido(pergunta)\n",
        "    text = \"Analise as respostas do invasor e do invadido e dê seu veredicto\"\n",
        "    text += \"Invasor: \" + r_invasor + \"\\n\"\n",
        "    text += \"Invadido: \" + r_invadido + \"\\n\"\n",
        "    resultado = call_agent(diplomatico, text)\n",
        "    return resultado"
      ],
      "metadata": {
        "id": "uOqlg2TRLVh1"
      },
      "execution_count": 16,
      "outputs": []
    },
    {
      "cell_type": "code",
      "source": [
        "print(\"🚀 Iniciando o Sistema de Prevenção de Guerras 🚀\")\n",
        "\n",
        "\n",
        "diplomatico = agente_diplomatico()\n",
        "print(\"\\n--- 📝 Resultado\\n\")\n",
        "display(to_markdown(diplomatico))\n"
      ],
      "metadata": {
        "id": "630ummxz4myx",
        "colab": {
          "base_uri": "https://localhost:8080/",
          "height": 776
        },
        "outputId": "11dca16c-35c5-4772-cda7-920b0e3baf73"
      },
      "execution_count": 18,
      "outputs": [
        {
          "output_type": "stream",
          "name": "stdout",
          "text": [
            "🚀 Iniciando o Sistema de Prevenção de Guerras 🚀\n",
            "\n",
            "--- 📝 Resultado\n",
            "\n"
          ]
        },
        {
          "output_type": "display_data",
          "data": {
            "text/plain": [
              "<IPython.core.display.Markdown object>"
            ],
            "text/markdown": "> As posições do invasor e do invadido são diametralmente opostas, refletindo os objetivos conflitantes que motivaram o conflito.\n> \n> **Análise do Invasor (Rússia):**\n> \n> *   **Foco em ganhos territoriais e estratégicos:** As condições do invasor priorizam a anexação de territórios ricos em recursos e o controle de rotas estratégicas (Canal da Crimeia). Isso demonstra uma motivação primária de expansionismo e controle de recursos.\n> *   **Desmilitarização e Não-Interferência:** A exigência de desmilitarização das áreas fronteiriças e garantias de não-interferência visa consolidar o controle russo sobre os territórios anexados, impedindo qualquer contra-ataque ou apoio externo à Ucrânia.\n> *   **Reconhecimento da Soberania Russa:** A busca por reconhecimento formal da anexação é crucial para o invasor, pois legitima sua ação e busca evitar futuros conflitos.\n> *   **Compensações:** A exigência de compensações indica uma tentativa de justificar a invasão e transferir os custos do conflito para a Ucrânia.\n> *   **Estratégia de dissuasão:** A menção à prevenção de uma guerra nuclear serve como uma forma de pressão para que suas condições sejam aceitas, explorando o medo de uma escalada do conflito.\n> \n> **Análise do Invadido (Ucrânia):**\n> \n> *   **Prioridade à soberania e integridade territorial:** As condições do invadido focam na restauração de sua soberania e integridade territorial, exigindo a retirada completa das forças russas de todos os territórios ocupados, incluindo Donbas e Crimeia.\n> *   **Garantias de segurança internacionais:** A busca por garantias de segurança de potências internacionais demonstra a necessidade de proteção contra futuras agressões, dada a vulnerabilidade da Ucrânia diante da Rússia.\n> *   **Assistência econômica e compensação:** A solicitação de assistência econômica e compensação por danos de guerra visa mitigar os impactos devastadores do conflito e reconstruir o país.\n> *   **Responsabilização por crimes de guerra:** A exigência de responsabilização por crimes de guerra busca justiça para as vítimas do conflito e visa dissuadir futuras atrocidades.\n> *   **Neutralidade em troca de segurança:** A disposição de adotar uma posição de neutralidade, renunciando à adesão à OTAN, mostra uma busca por compromisso, desde que haja garantias sólidas de segurança e respeito à sua soberania.\n> *   **Negociações e Acordo de Paz:** A insistência em negociações sobre o estatuto dos territórios ocupados e a assinatura de um acordo de paz abrangente indicam um desejo de resolver o conflito por meios diplomáticos, estabelecendo um novo quadro para as relações bilaterais.\n> \n> **Veredicto:**\n> \n> As posições apresentadas são, em grande parte, inconciliáveis. O invasor busca consolidar ganhos territoriais e estratégicos obtidos pela força, enquanto o invadido busca restaurar sua soberania e integridade territorial, buscando garantias de segurança contra futuras agressões.\n> \n> Um ponto de possível convergência, embora difícil, seria a negociação sobre o estatuto dos territórios ocupados, mediada por atores internacionais. No entanto, para que as negociações sejam bem-sucedidas, ambas as partes precisariam demonstrar flexibilidade e disposição para compromissos, o que parece improvável no momento.\n> \n> A oferta de neutralidade pela Ucrânia em troca de garantias de segurança também é um ponto que merece ser explorado, pois pode oferecer uma solução para a questão da expansão da OTAN, uma das preocupações levantadas pela Rússia.\n> \n> É importante ressaltar que qualquer solução duradoura para o conflito deve levar em consideração os princípios do direito internacional, incluindo o respeito à soberania e à integridade territorial dos Estados, o direito à autodeterminação dos povos e a proibição do uso da força nas relações internacionais.\n"
          },
          "metadata": {}
        }
      ]
    }
  ]
}